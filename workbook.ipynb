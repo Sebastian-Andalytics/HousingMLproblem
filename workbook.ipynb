{
    "metadata": {
        "kernelspec": {
            "name": "python3",
            "display_name": "Python 3 (ipykernel)",
            "language": "python"
        }
    },
    "nbformat": 4,
    "nbformat_minor": 5,
    "cells": [
        {
            "attachments": {},
            "cell_type": "markdown",
            "metadata": {},
            "source": [
                "# **Loan Prediciton Model** #\n",
                "\n",
                "---\n",
                "\n",
                ""
            ]
        },
        {
            "attachments": {},
            "cell_type": "markdown",
            "metadata": {},
            "source": [
                "### **Group 13:** ### \n",
                "\n",
                "\n",
                "* Andersen, Sebastian (261069597) \n",
                "\n",
                "* Khoury, Mariam (261025771) \n",
                "* Mehra, Aryaan (260967233) \n",
                "* Van Loan, Jonathan (260981768)\n",
                "\n",
                "\n",
                ""
            ]
        },
        {
            "attachments": {},
            "cell_type": "markdown",
            "metadata": {},
            "source": [
                "## **Introduction** ##"
            ]
        },
        {
            "attachments": {},
            "cell_type": "markdown",
            "metadata": {},
            "source": [
                "## *Motivation:* ##"
            ]
        },
        {
            "attachments": {},
            "cell_type": "markdown",
            "metadata": {},
            "source": [
                "Banks play a major role in ensuring the financial stability of a country and driving its growth by managing deposits and loans. Effective lending is crucial to fuel economic activity, but also to avoid risks that can destabilize the financial system. The most recent example of lending gone-wrong is the 2008 crisis.  That crisis, caused by loans extended to non-creditworthy applicants, serves as a reminder of the consequences of poor lending practices. The wave of defaults triggered by excessive risk-taking led to a global recession, leaving a long-lasting impact on economies worldwide. \n",
                "\n",
                "While the case of the 2008 crisis exposed the dangers of excessive risk-taking by banks, it highlights the importance of automated lending systems  that eliminate human error and risky decision-making. \n",
                ""
            ]
        },
        {
            "attachments": {},
            "cell_type": "markdown",
            "metadata": {},
            "source": [
                "## *The Business Problem* ##"
            ]
        },
        {
            "attachments": {},
            "cell_type": "markdown",
            "metadata": {},
            "source": [
                "Today, most loan applications are still reviewed manually, which not only increases not only the potential for human error, but also that  for bias and discrimination when assessing the eligibility of an applicant. Furthermore, the process is time-consuming. The time required to review loan applications is operationally expensive, requiring more workforce and resources. In an  era of Fintech and digital banking, such delays don’t only increase operational expenses, but also often lead to customer dissatisfaction. Providing a fast, smooth, and efficient loan application process has therefore  become a critical factor in retaining customer loyalty and ensuring a competitive edge in the banking industry. \n",
                "To address these challenges, there is an urgent need to innovate and streamline the process by which loan applications are reviewed. This is where machine-learning comes into play, offering the potential to develop a model, which can automatically determine the eligibility of an applicant.\n",
                ""
            ]
        },
        {
            "attachments": {},
            "cell_type": "markdown",
            "metadata": {},
            "source": [
                "## *The Machine Learning Problem* ##"
            ]
        },
        {
            "attachments": {},
            "cell_type": "markdown",
            "metadata": {},
            "source": [
                "To overcome these limitations, we propose developing a supervised Machine Learning classification model that automates the loan approval process. This ML model will:\n",
                "Identify creditworthy customers versus non-creditworthy ones based on historical data and various applicant factors and predict an applicant’s ability to repay loans, enhancing decision accuracy.\n",
                "By training on historical loan data, the model will learn patterns and relationships between applicant characteristics and their eligibility. This ensures consistent and unbiased decision-making and reduces default risks. \n",
                ""
            ]
        },
        {
            "attachments": {},
            "cell_type": "markdown",
            "metadata": {},
            "source": [
                "## **Model Development**"
            ]
        },
        {
            "attachments": {},
            "cell_type": "markdown",
            "metadata": {},
            "source": [
                "## *Data Description* ##"
            ]
        },
        {
            "attachments": {},
            "cell_type": "markdown",
            "metadata": {},
            "source": [
                "Our dataset was obtained from Kaggle - a publicly accessible repository. It  contains 4,270 rows and 13 columns, representing details of loan applications. Each row corresponds to a unique loan application, capturing essential information about the applicant and their financial situation. The data includes both categorical (employment status and educational background)  and numerical variables (annual income, duration of loan term, assets value etc..). We picked the features that seemed the  most relevant for our model. We combined the four different types of assets, namely commercial, luxury, residential and bank assets into one feature which we named total asset. The other features we selected were loan term, number of dependents, cibil score and loan amount and income-which we transformed into a ratio of debt-to-income to capture the relation between both features. The Cibil-score is a 3-digit credit score weighted off of several factors including repayment history, and various details concerning an applicant’s credit history. It is a unique score for each applicant and is expected to be the largest contributor to the outcome of the decision of the loan. Across the entire dataset, there were roughly twice as many loan approvals as there were rejections. While the dataset was imbalance, we did not deem it severe enough to necessitate balance techniques such as SMOTE() or regularization, but rather we took this imbalance into consideration when evaluating the model performance. \n",
                ""
            ]
        },
        {
            "attachments": {},
            "cell_type": "markdown",
            "metadata": {},
            "source": [
                "## *Evaluation metrics* ##"
            ]
        },
        {
            "attachments": {},
            "cell_type": "markdown",
            "metadata": {},
            "source": [
                "Given the imbalanced nature of the data, accuracy did not seem like an appropriate metric for our model. \n",
                "\n",
                "The choice between optimizing precision and recall is difficult. In the context of bank lending, optimizing precision at the price of recall would lead to fewer unqualified applicants being approved. When in doubt, the model would reject the application. However, if the model is too stringent, it could reject more applicants than it should, which would be costly for the banks as loans are the banks’ main source of revenue. High recall on the other hand would lead to fewer qualified applicants mistakenly rejected. Optimizing this metric at the cost of precision would lead to higher risk of default on the loans since the model risks accepting more loans than it should. Default on loans is a huge expense for banks. \n",
                "Therefore, to manage both costs, we decided to optimize the F1 score, which comprises both metrics and allows us to balance the benefits and costs of each. \n",
                ""
            ]
        },
        {
            "attachments": {},
            "cell_type": "markdown",
            "metadata": {},
            "source": [
                "## *Data Cleaning and Preprocessing*"
            ]
        },
        {
            "attachments": {},
            "cell_type": "markdown",
            "metadata": {},
            "source": [
                "We started by loading and inspecting the dataset to ensure the data’s integrity. We made sure to check and remove missing values, incorrect data types, and duplicates and confirmed that our dataset was complete. One of our first steps involved removing trailing spaces from column names and labels. Next, we created new features to make sure that there was no collinearity and to enhance the predictive power of the model. We calculated the debt to income ratio and we also added all asset values to one single “total_assets” to further simplify. Then we separated the features and the dependent variable, “loan status\" which we encoded into binary variables using a label encoder. To prepare the data for the machine learning models, we divided the features into numerical and categorical groups. For the numerical features such a cibil_score and loan_term we used StandardScaler to standardize them. For the categorical features like education and self_employed we used one-hot encoding to ensure that they could be effectively used by our models. These steps were combined into a ColumnTransformer which made a unified and reusable pipeline. Finally we split the data into training and test sets, making it an 80-20 split to preserve data for an unbiased evaluation."
            ]
        },
        {
            "attachments": {},
            "cell_type": "markdown",
            "metadata": {},
            "source": [
                "## *Exploratory Data Analysis*"
            ]
        },
        {
            "attachments": {},
            "cell_type": "markdown",
            "metadata": {},
            "source": [
                "To better understand the relationship between the features, we computed a correlation matrix for the numerical variables. This visualization helped us identify if we had any multicollinearity that could have affected our model. Later, we calculated the Variance Inflation Factor for the numerical features to quantify the multicollinearity as well. All values showed relatively acceptable levels of multicollinearity"
            ]
        },
        {
            "attachments": {},
            "cell_type": "markdown",
            "metadata": {},
            "source": [
                "## *Model Selection and Baseline Performance*"
            ]
        },
        {
            "attachments": {},
            "cell_type": "markdown",
            "metadata": {},
            "source": [
                "We started by testing four different machine learning models: KNN, Logistic Regression, Random Forest (RF) and a Neural Network (NN). Each model was evaluated using the default parameters with 5 fold cross validation with the F1 score as our primary metric. The Random Forest performed the best followed by the Neural Network."
            ]
        },
        {
            "attachments": {},
            "cell_type": "markdown",
            "metadata": {},
            "source": [
                "## *Hyperparameter Optimization*"
            ]
        },
        {
            "attachments": {},
            "cell_type": "markdown",
            "metadata": {},
            "source": [
                "Because of these results, we focused on optimizing RF and NN. For the RF we used RandomizedSearchedCV to tune the hyperparameter such as the number of trees, max depth and minimum sample requirements for splitting and leaf nodes. This helped us explore many different hyperparameters while balancing the computational cost. For the NN, we optimized hyperparameters such as the network architecture, activation functions, regularization strength and learning rate strategies."
            ]
        },
        {
            "attachments": {},
            "cell_type": "markdown",
            "metadata": {},
            "source": [
                "## *Model Evaluation and Testing*"
            ]
        },
        {
            "attachments": {},
            "cell_type": "markdown",
            "metadata": {},
            "source": [
                "After optimization we evaluated the models using cross-validation. The fine-tuned RF consistently got an F1 score of 1.00 which outperformed the NN which got an F1 score of 0.98. To ensure the models generalized well, we tested the best RF model on an unseen test set. \n",
                "To make our RF interpretable, we got and ranked the importance of features based on how important they were to the predictions. \n",
                ""
            ]
        },
        {
            "attachments": {},
            "cell_type": "markdown",
            "metadata": {},
            "source": [
                "## **Results**"
            ]
        },
        {
            "attachments": {},
            "cell_type": "markdown",
            "metadata": {},
            "source": [
                "The evaluation focused primarily on the Random Forest and Neural Network models, as these two approaches demonstrated the strongest initial performance during the initial comparison stage. After conducting a thorough hyperparameter optimization process, the Random Forest model achieved its best results using 125 trees, a maximum depth of 30, and a minimum sample split of 5. Under these optimized settings, the Random Forest achieved consistently high performance, attaining a near-perfect macro F1 score of 1.00 during cross-validation. On the held-out test set, the Random Forest maintained this strong performance, reaching an accuracy of approximately 0.9988 and similarly high precision, recall, and F1 metrics.\n",
                "The Neural Network model, optimized by adjusting its architecture, learning rate, and activation function, also demonstrated strong predictive ability. The chosen configuration, which included a (100, 50) hidden layer structure, a learning rate initialization of 0.01, and the “tanh” activation function, delivered a robust macro F1 score of about 0.98 on cross-validation. While this result was close to the Random Forest’s performance, the Neural Network model did not quite match the near-perfect consistency and predictive accuracy seen with the Random Forest model’s final metrics.\n",
                "In summary, both the Random Forest and the Neural Network produced high-quality predictions following hyperparameter tuning. The Random Forest model, however, emerged as the leading solution, with its superior balance of precision and recall ultimately making it the top choice for reliable and accurate loan approval predictions.\n",
                ""
            ]
        },
        {
            "attachments": {},
            "cell_type": "markdown",
            "metadata": {},
            "source": [
                "## **Conclusion and Implementation**"
            ]
        },
        {
            "attachments": {},
            "cell_type": "markdown",
            "metadata": {},
            "source": [
                "## *Conclusion*"
            ]
        },
        {
            "attachments": {},
            "cell_type": "markdown",
            "metadata": {},
            "source": [
                "Our final proposed model is the optimized random forest through Random Search. The model performed exceptionally well on both the training data and the testing data. Given the results, we would propose our model for banks to work with, hoping it would allow them to cut down on the expenses associated with the current loan management system and the resources involved in it. Furthermore, it would allow them to decrease the waiting time for customers which would render the banks more competitive by retaining a larger portion of their customers. "
            ]
        },
        {
            "attachments": {},
            "cell_type": "markdown",
            "metadata": {},
            "source": [
                "## *Implementation and next steps:*"
            ]
        },
        {
            "attachments": {},
            "cell_type": "markdown",
            "metadata": {},
            "source": [
                "The implementation process would begin with localized testing. Making sure that the model is tested in specific regions and population demographics to test the models adaptability and effectiveness. This would ensure that the model that we have developed is consistent across different economic characteristics of different areas. By focusing on smaller and more local areas, it would allow the model to be assessed on specific things and finding inconsistencies. This would also ensure that the system is fine-tuned to address the diverse needs of various markets, fostering both reliability and inclusivity.\n",
                "After the testing phase, feedback would be important. We would like to gather feedback from everyone who interacts with the system, this includes, loan applicants, loan officers and other stakeholders. This information is important for refining the model, using feedback we could make sure that the model is fit for real world use and could address usability challenges. This form of evaluation could be performed through surveys, interviews and system-generated data logs to help identify areas of improvement. This overall helps strengthen the reliability of the system and mitigates the financial risk for both lenders and lenders.\n",
                "Later on we would like to check the loans granted based on if they are paid back in time and whether or not they are defaulted. This would add a better dependent variable for the model so it can actually predict what loans are profitable and decrease the risk of the loans that are being approved. \n",
                "The development of a risk score is something that we would like to add later on to the system. By assigning a numerical score ranging from 1 to 100, the model can provide a clear and standardized representation of an applicant's likelihood of loan approval. This score would be derived from the probability of the loan being granted and would allow the banks to have more agency over their risk tolerance and understanding for what interest rates to charge their clients.\n",
                "Finally, we would like to develop an approval likelihood calculator to offer consumers a better idea of where they are at in terms of their loan approval. They can include the metrics that they have that are most important to the loan application process to see what they can afford. This would allow consumers to have more of a window as to what they are able to afford and what they are able to loan. This would foster engagement and loyalty to the bank. The most important part in this would be to reduce false positives as customers of the bank would be extremely disappointed if the bank could not offer a loan when the calculator told them they could get one.\n",
                ""
            ]
        },
        {
            "attachments": {},
            "cell_type": "markdown",
            "metadata": {},
            "source": [
                "## *Limitations*"
            ]
        },
        {
            "attachments": {},
            "cell_type": "markdown",
            "metadata": {},
            "source": [
                "We recognize that real-world data may not behave in the same way as the limited dataset we worked with, in which case, the model would need to be retrained to the actual data and tweaked to the real-world data. That said, our work on this dataset showed that it is possible to create a powerful ML model with strong predicting power that could be useful for banks.\n",
                "We are also aware that we were working with limited processing power, which limited the optimization of our results. With more power, a grid search would’ve been performed for hypertuning the parameters rather than the random search, which could’ve led to more optimized results. We would’ve also explored each one of our 4 models in detail, rather than judging them by their default settings, which could’ve uncovered better predicting power for the two models we ignored (Logistic Regression and KNN). \n",
                "Finally, our model is trained on the results of human judgement. While we aim to create a model free of bias, it learns from human decisions, potentially replicating the same biases that humans have had. Our model also learns from a dataset determining whether the loan has been approved or rejected, rather than whether the loan has been defaulted or not. To further optimize our model, we would have to include not only the decision outcome on loan applications, but also the repayment outcome.\n",
                ""
            ]
        },
        {
            "attachments": {},
            "cell_type": "markdown",
            "metadata": {},
            "source": [
                "## **Appendix: the code and the results** "
            ]
        },
        {
            "attachments": {},
            "cell_type": "markdown",
            "metadata": {},
            "source": [
                "*Importing the modules and packages*"
            ]
        },
        {
            "cell_type": "code",
            "execution_count": 42,
            "metadata": {},
            "outputs": [],
            "source": [
                "import pandas as pd \n",
                "import numpy as np \n",
                "import matplotlib.pyplot as plt \n",
                "import seaborn as sns \n",
                "\n",
                "from statsmodels.stats.outliers_influence import variance_inflation_factor\n",
                "from sklearn.compose import ColumnTransformer\n",
                "from sklearn.pipeline import Pipeline\n",
                "from sklearn.model_selection import cross_validate\n",
                "from sklearn.metrics import accuracy_score\n",
                "from sklearn.model_selection import cross_val_score\n",
                "from sklearn.preprocessing import StandardScaler, OneHotEncoder, LabelEncoder\n",
                "from sklearn.ensemble import RandomForestClassifier\n",
                "from sklearn.neighbors import KNeighborsClassifier\n",
                "from sklearn.linear_model import LogisticRegression\n",
                "from sklearn.neural_network import MLPClassifier\n",
                "from sklearn.model_selection import train_test_split\n",
                "from sklearn.model_selection import RandomizedSearchCV\n",
                "from sklearn.metrics import classification_report, confusion_matrix\n",
                "from sklearn.metrics import make_scorer, f1_score\n",
                "from sklearn.neural_network import MLPClassifier\n",
                "from sklearn.model_selection import GridSearchCV\n",
                "from sklearn.model_selection import cross_val_predict\n",
                "from sklearn.calibration import calibration_curve\n",
                ""
            ]
        },
        {
            "attachments": {},
            "cell_type": "markdown",
            "metadata": {},
            "source": [
                "## *Data exploration:* "
            ]
        },
        {
            "attachments": {},
            "cell_type": "markdown",
            "metadata": {},
            "source": [
                "*Visualizing the data*"
            ]
        },
        {
            "cell_type": "code",
            "execution_count": 2,
            "metadata": {},
            "outputs": [],
            "source": [
                "#Loading the data: \n",
                "data = pd.read_csv(\"loan_approval_dataset.csv\") "
            ]
        },
        {
            "cell_type": "code",
            "execution_count": 3,
            "metadata": {},
            "outputs": [
                {
                    "data": {
                        "text/html": "\u003cdiv\u003e\n\u003cstyle scoped\u003e\n    .dataframe tbody tr th:only-of-type {\n        vertical-align: middle;\n    }\n\n    .dataframe tbody tr th {\n        vertical-align: top;\n    }\n\n    .dataframe thead th {\n        text-align: right;\n    }\n\u003c/style\u003e\n\u003ctable border=\"1\" class=\"dataframe\"\u003e\n  \u003cthead\u003e\n    \u003ctr style=\"text-align: right;\"\u003e\n      \u003cth\u003e\u003c/th\u003e\n      \u003cth\u003eloan_id\u003c/th\u003e\n      \u003cth\u003eno_of_dependents\u003c/th\u003e\n      \u003cth\u003eeducation\u003c/th\u003e\n      \u003cth\u003eself_employed\u003c/th\u003e\n      \u003cth\u003eincome_annum\u003c/th\u003e\n      \u003cth\u003eloan_amount\u003c/th\u003e\n      \u003cth\u003eloan_term\u003c/th\u003e\n      \u003cth\u003ecibil_score\u003c/th\u003e\n      \u003cth\u003eresidential_assets_value\u003c/th\u003e\n      \u003cth\u003ecommercial_assets_value\u003c/th\u003e\n      \u003cth\u003eluxury_assets_value\u003c/th\u003e\n      \u003cth\u003ebank_asset_value\u003c/th\u003e\n      \u003cth\u003eloan_status\u003c/th\u003e\n    \u003c/tr\u003e\n  \u003c/thead\u003e\n  \u003ctbody\u003e\n    \u003ctr\u003e\n      \u003cth\u003e0\u003c/th\u003e\n      \u003ctd\u003e1\u003c/td\u003e\n      \u003ctd\u003e2\u003c/td\u003e\n      \u003ctd\u003eGraduate\u003c/td\u003e\n      \u003ctd\u003eNo\u003c/td\u003e\n      \u003ctd\u003e9600000\u003c/td\u003e\n      \u003ctd\u003e29900000\u003c/td\u003e\n      \u003ctd\u003e12\u003c/td\u003e\n      \u003ctd\u003e778\u003c/td\u003e\n      \u003ctd\u003e2400000\u003c/td\u003e\n      \u003ctd\u003e17600000\u003c/td\u003e\n      \u003ctd\u003e22700000\u003c/td\u003e\n      \u003ctd\u003e8000000\u003c/td\u003e\n      \u003ctd\u003eApproved\u003c/td\u003e\n    \u003c/tr\u003e\n    \u003ctr\u003e\n      \u003cth\u003e1\u003c/th\u003e\n      \u003ctd\u003e2\u003c/td\u003e\n      \u003ctd\u003e0\u003c/td\u003e\n      \u003ctd\u003eNot Graduate\u003c/td\u003e\n      \u003ctd\u003eYes\u003c/td\u003e\n      \u003ctd\u003e4100000\u003c/td\u003e\n      \u003ctd\u003e12200000\u003c/td\u003e\n      \u003ctd\u003e8\u003c/td\u003e\n      \u003ctd\u003e417\u003c/td\u003e\n      \u003ctd\u003e2700000\u003c/td\u003e\n      \u003ctd\u003e2200000\u003c/td\u003e\n      \u003ctd\u003e8800000\u003c/td\u003e\n      \u003ctd\u003e3300000\u003c/td\u003e\n      \u003ctd\u003eRejected\u003c/td\u003e\n    \u003c/tr\u003e\n    \u003ctr\u003e\n      \u003cth\u003e2\u003c/th\u003e\n      \u003ctd\u003e3\u003c/td\u003e\n      \u003ctd\u003e3\u003c/td\u003e\n      \u003ctd\u003eGraduate\u003c/td\u003e\n      \u003ctd\u003eNo\u003c/td\u003e\n      \u003ctd\u003e9100000\u003c/td\u003e\n      \u003ctd\u003e29700000\u003c/td\u003e\n      \u003ctd\u003e20\u003c/td\u003e\n      \u003ctd\u003e506\u003c/td\u003e\n      \u003ctd\u003e7100000\u003c/td\u003e\n      \u003ctd\u003e4500000\u003c/td\u003e\n      \u003ctd\u003e33300000\u003c/td\u003e\n      \u003ctd\u003e12800000\u003c/td\u003e\n      \u003ctd\u003eRejected\u003c/td\u003e\n    \u003c/tr\u003e\n    \u003ctr\u003e\n      \u003cth\u003e3\u003c/th\u003e\n      \u003ctd\u003e4\u003c/td\u003e\n      \u003ctd\u003e3\u003c/td\u003e\n      \u003ctd\u003eGraduate\u003c/td\u003e\n      \u003ctd\u003eNo\u003c/td\u003e\n      \u003ctd\u003e8200000\u003c/td\u003e\n      \u003ctd\u003e30700000\u003c/td\u003e\n      \u003ctd\u003e8\u003c/td\u003e\n      \u003ctd\u003e467\u003c/td\u003e\n      \u003ctd\u003e18200000\u003c/td\u003e\n      \u003ctd\u003e3300000\u003c/td\u003e\n      \u003ctd\u003e23300000\u003c/td\u003e\n      \u003ctd\u003e7900000\u003c/td\u003e\n      \u003ctd\u003eRejected\u003c/td\u003e\n    \u003c/tr\u003e\n    \u003ctr\u003e\n      \u003cth\u003e4\u003c/th\u003e\n      \u003ctd\u003e5\u003c/td\u003e\n      \u003ctd\u003e5\u003c/td\u003e\n      \u003ctd\u003eNot Graduate\u003c/td\u003e\n      \u003ctd\u003eYes\u003c/td\u003e\n      \u003ctd\u003e9800000\u003c/td\u003e\n      \u003ctd\u003e24200000\u003c/td\u003e\n      \u003ctd\u003e20\u003c/td\u003e\n      \u003ctd\u003e382\u003c/td\u003e\n      \u003ctd\u003e12400000\u003c/td\u003e\n      \u003ctd\u003e8200000\u003c/td\u003e\n      \u003ctd\u003e29400000\u003c/td\u003e\n      \u003ctd\u003e5000000\u003c/td\u003e\n      \u003ctd\u003eRejected\u003c/td\u003e\n    \u003c/tr\u003e\n    \u003ctr\u003e\n      \u003cth\u003e5\u003c/th\u003e\n      \u003ctd\u003e6\u003c/td\u003e\n      \u003ctd\u003e0\u003c/td\u003e\n      \u003ctd\u003eGraduate\u003c/td\u003e\n      \u003ctd\u003eYes\u003c/td\u003e\n      \u003ctd\u003e4800000\u003c/td\u003e\n      \u003ctd\u003e13500000\u003c/td\u003e\n      \u003ctd\u003e10\u003c/td\u003e\n      \u003ctd\u003e319\u003c/td\u003e\n      \u003ctd\u003e6800000\u003c/td\u003e\n      \u003ctd\u003e8300000\u003c/td\u003e\n      \u003ctd\u003e13700000\u003c/td\u003e\n      \u003ctd\u003e5100000\u003c/td\u003e\n      \u003ctd\u003eRejected\u003c/td\u003e\n    \u003c/tr\u003e\n    \u003ctr\u003e\n      \u003cth\u003e6\u003c/th\u003e\n      \u003ctd\u003e7\u003c/td\u003e\n      \u003ctd\u003e5\u003c/td\u003e\n      \u003ctd\u003eGraduate\u003c/td\u003e\n      \u003ctd\u003eNo\u003c/td\u003e\n      \u003ctd\u003e8700000\u003c/td\u003e\n      \u003ctd\u003e33000000\u003c/td\u003e\n      \u003ctd\u003e4\u003c/td\u003e\n      \u003ctd\u003e678\u003c/td\u003e\n      \u003ctd\u003e22500000\u003c/td\u003e\n      \u003ctd\u003e14800000\u003c/td\u003e\n      \u003ctd\u003e29200000\u003c/td\u003e\n      \u003ctd\u003e4300000\u003c/td\u003e\n      \u003ctd\u003eApproved\u003c/td\u003e\n    \u003c/tr\u003e\n    \u003ctr\u003e\n      \u003cth\u003e7\u003c/th\u003e\n      \u003ctd\u003e8\u003c/td\u003e\n      \u003ctd\u003e2\u003c/td\u003e\n      \u003ctd\u003eGraduate\u003c/td\u003e\n      \u003ctd\u003eYes\u003c/td\u003e\n      \u003ctd\u003e5700000\u003c/td\u003e\n      \u003ctd\u003e15000000\u003c/td\u003e\n      \u003ctd\u003e20\u003c/td\u003e\n      \u003ctd\u003e382\u003c/td\u003e\n      \u003ctd\u003e13200000\u003c/td\u003e\n      \u003ctd\u003e5700000\u003c/td\u003e\n      \u003ctd\u003e11800000\u003c/td\u003e\n      \u003ctd\u003e6000000\u003c/td\u003e\n      \u003ctd\u003eRejected\u003c/td\u003e\n    \u003c/tr\u003e\n    \u003ctr\u003e\n      \u003cth\u003e8\u003c/th\u003e\n      \u003ctd\u003e9\u003c/td\u003e\n      \u003ctd\u003e0\u003c/td\u003e\n      \u003ctd\u003eGraduate\u003c/td\u003e\n      \u003ctd\u003eYes\u003c/td\u003e\n      \u003ctd\u003e800000\u003c/td\u003e\n      \u003ctd\u003e2200000\u003c/td\u003e\n      \u003ctd\u003e20\u003c/td\u003e\n      \u003ctd\u003e782\u003c/td\u003e\n      \u003ctd\u003e1300000\u003c/td\u003e\n      \u003ctd\u003e800000\u003c/td\u003e\n      \u003ctd\u003e2800000\u003c/td\u003e\n      \u003ctd\u003e600000\u003c/td\u003e\n      \u003ctd\u003eApproved\u003c/td\u003e\n    \u003c/tr\u003e\n    \u003ctr\u003e\n      \u003cth\u003e9\u003c/th\u003e\n      \u003ctd\u003e10\u003c/td\u003e\n      \u003ctd\u003e5\u003c/td\u003e\n      \u003ctd\u003eNot Graduate\u003c/td\u003e\n      \u003ctd\u003eNo\u003c/td\u003e\n      \u003ctd\u003e1100000\u003c/td\u003e\n      \u003ctd\u003e4300000\u003c/td\u003e\n      \u003ctd\u003e10\u003c/td\u003e\n      \u003ctd\u003e388\u003c/td\u003e\n      \u003ctd\u003e3200000\u003c/td\u003e\n      \u003ctd\u003e1400000\u003c/td\u003e\n      \u003ctd\u003e3300000\u003c/td\u003e\n      \u003ctd\u003e1600000\u003c/td\u003e\n      \u003ctd\u003eRejected\u003c/td\u003e\n    \u003c/tr\u003e\n  \u003c/tbody\u003e\n\u003c/table\u003e\n\u003c/div\u003e",
                        "text/plain": "   loan_id   no_of_dependents      education  self_employed   income_annum  \\\n0        1                  2       Graduate             No        9600000   \n1        2                  0   Not Graduate            Yes        4100000   \n2        3                  3       Graduate             No        9100000   \n3        4                  3       Graduate             No        8200000   \n4        5                  5   Not Graduate            Yes        9800000   \n5        6                  0       Graduate            Yes        4800000   \n6        7                  5       Graduate             No        8700000   \n7        8                  2       Graduate            Yes        5700000   \n8        9                  0       Graduate            Yes         800000   \n9       10                  5   Not Graduate             No        1100000   \n\n    loan_amount   loan_term   cibil_score   residential_assets_value  \\\n0      29900000          12           778                    2400000   \n1      12200000           8           417                    2700000   \n2      29700000          20           506                    7100000   \n3      30700000           8           467                   18200000   \n4      24200000          20           382                   12400000   \n5      13500000          10           319                    6800000   \n6      33000000           4           678                   22500000   \n7      15000000          20           382                   13200000   \n8       2200000          20           782                    1300000   \n9       4300000          10           388                    3200000   \n\n    commercial_assets_value   luxury_assets_value   bank_asset_value  \\\n0                  17600000              22700000            8000000   \n1                   2200000               8800000            3300000   \n2                   4500000              33300000           12800000   \n3                   3300000              23300000            7900000   \n4                   8200000              29400000            5000000   \n5                   8300000              13700000            5100000   \n6                  14800000              29200000            4300000   \n7                   5700000              11800000            6000000   \n8                    800000               2800000             600000   \n9                   1400000               3300000            1600000   \n\n   loan_status  \n0     Approved  \n1     Rejected  \n2     Rejected  \n3     Rejected  \n4     Rejected  \n5     Rejected  \n6     Approved  \n7     Rejected  \n8     Approved  \n9     Rejected  "
                    },
                    "execution_count": 3,
                    "metadata": {},
                    "output_type": "execute_result"
                }
            ],
            "source": [
                "#Viewing the data: \n",
                "data.head(10)"
            ]
        },
        {
            "cell_type": "code",
            "execution_count": 4,
            "metadata": {},
            "outputs": [
                {
                    "data": {
                        "text/plain": "loan_id                      0\n no_of_dependents            0\n education                   0\n self_employed               0\n income_annum                0\n loan_amount                 0\n loan_term                   0\n cibil_score                 0\n residential_assets_value    0\n commercial_assets_value     0\n luxury_assets_value         0\n bank_asset_value            0\n loan_status                 0\ndtype: int64"
                    },
                    "execution_count": 4,
                    "metadata": {},
                    "output_type": "execute_result"
                }
            ],
            "source": [
                "#Verifiying data completeness:\n",
                "data.isnull().sum()"
            ]
        },
        {
            "cell_type": "code",
            "execution_count": 5,
            "metadata": {},
            "outputs": [
                {
                    "data": {
                        "text/plain": "loan_id                       int64\n no_of_dependents             int64\n education                   object\n self_employed               object\n income_annum                 int64\n loan_amount                  int64\n loan_term                    int64\n cibil_score                  int64\n residential_assets_value     int64\n commercial_assets_value      int64\n luxury_assets_value          int64\n bank_asset_value             int64\n loan_status                 object\ndtype: object"
                    },
                    "execution_count": 5,
                    "metadata": {},
                    "output_type": "execute_result"
                }
            ],
            "source": [
                "#Investigating the data types:\n",
                "data.dtypes"
            ]
        },
        {
            "cell_type": "code",
            "execution_count": 6,
            "metadata": {},
            "outputs": [
                {
                    "data": {
                        "text/plain": "np.int64(0)"
                    },
                    "execution_count": 6,
                    "metadata": {},
                    "output_type": "execute_result"
                }
            ],
            "source": [
                "#Verifying data quality:\n",
                "data.duplicated().sum()"
            ]
        },
        {
            "attachments": {},
            "cell_type": "markdown",
            "metadata": {},
            "source": [
                "## *Data preprocessing*"
            ]
        },
        {
            "cell_type": "code",
            "execution_count": 7,
            "metadata": {},
            "outputs": [],
            "source": [
                "#Removing the trailing spaces from the column names\n",
                "data.columns = data.columns.str.strip()"
            ]
        },
        {
            "cell_type": "code",
            "execution_count": 8,
            "metadata": {},
            "outputs": [],
            "source": [
                "data['debt_to_income'] = data['loan_amount'] / data['income_annum']\n",
                "data['total_assets'] = (\n",
                "    data['residential_assets_value'] + \n",
                "    data['commercial_assets_value'] + \n",
                "    data['luxury_assets_value'] + \n",
                "    data['bank_asset_value'])"
            ]
        },
        {
            "cell_type": "code",
            "execution_count": 9,
            "metadata": {},
            "outputs": [],
            "source": [
                "#Defining X and Y:\n",
                "X = data.drop(['loan_status', 'loan_id','residential_assets_value','commercial_assets_value','luxury_assets_value','bank_asset_value','loan_amount','income_annum'], axis=1)  #We dropped loan_id as it's unique for each loan \n",
                "y = data['loan_status']"
            ]
        },
        {
            "cell_type": "code",
            "execution_count": 10,
            "metadata": {},
            "outputs": [],
            "source": [
                "#Defining categorical and numerical features:\n",
                "numerical_features = X.drop(['education', 'self_employed'], axis=1).columns.tolist()\n",
                "categorical_features = ['education', 'self_employed']"
            ]
        },
        {
            "attachments": {},
            "cell_type": "markdown",
            "metadata": {},
            "source": [
                "*Preprocessing the data: we want to scale the numerial features, and one-hot encode the categorical ones:*"
            ]
        },
        {
            "cell_type": "code",
            "execution_count": 11,
            "metadata": {},
            "outputs": [],
            "source": [
                "#Activating the functions: \n",
                "numerical_transformer = StandardScaler()\n",
                "categorical_transformer = OneHotEncoder()\n",
                ""
            ]
        },
        {
            "cell_type": "code",
            "execution_count": 12,
            "metadata": {},
            "outputs": [],
            "source": [
                "#Defining our preprocessing pipeline:\n",
                "preprocessor = ColumnTransformer(\n",
                "    transformers=[\n",
                "        ('num', numerical_transformer, numerical_features),\n",
                "        ('cat', categorical_transformer, categorical_features) ])\n",
                ""
            ]
        },
        {
            "cell_type": "code",
            "execution_count": 13,
            "metadata": {},
            "outputs": [
                {
                    "data": {
                        "text/plain": "array([' Approved', ' Rejected'], dtype=object)"
                    },
                    "execution_count": 13,
                    "metadata": {},
                    "output_type": "execute_result"
                }
            ],
            "source": [
                "#Processing y:\n",
                "y.unique()"
            ]
        },
        {
            "cell_type": "code",
            "execution_count": 14,
            "metadata": {},
            "outputs": [],
            "source": [
                "#Stripping the spaces from the labels:\n",
                "y_cleaned = y.str.strip()"
            ]
        },
        {
            "cell_type": "code",
            "execution_count": 15,
            "metadata": {},
            "outputs": [],
            "source": [
                "#Label encoding the binary output of y:\n",
                "\n",
                "label_encoder = LabelEncoder()\n",
                "label_encoder.fit(['Approved', 'Rejected']) \n",
                "\n",
                "\n",
                "y_encoded = label_encoder.transform(y_cleaned)"
            ]
        },
        {
            "attachments": {},
            "cell_type": "markdown",
            "metadata": {},
            "source": [
                "*Splitting the data:*"
            ]
        },
        {
            "cell_type": "code",
            "execution_count": 17,
            "metadata": {},
            "outputs": [],
            "source": [
                "X_train, X_test, y_train, y_test = train_test_split(X, y_encoded, test_size=0.2, random_state=42)"
            ]
        },
        {
            "attachments": {},
            "cell_type": "markdown",
            "metadata": {},
            "source": [
                "*Preprocessing X train and X test:*"
            ]
        },
        {
            "cell_type": "code",
            "execution_count": 18,
            "metadata": {},
            "outputs": [],
            "source": [
                "X_train_preprocessed = preprocessor.fit_transform(X_train)\n",
                "X_test_preprocessed = preprocessor.transform(X_test) #we don't fit so it doesn't leak the info "
            ]
        },
        {
            "attachments": {},
            "cell_type": "markdown",
            "metadata": {},
            "source": [
                "*Correlation matrix:*"
            ]
        },
        {
            "cell_type": "code",
            "execution_count": 20,
            "metadata": {},
            "outputs": [
                {
                    "data": {
                        "image/png": "[encoded data removed]",
                        "text/plain": "\u003cFigure size 1000x800 with 2 Axes\u003e"
                    },
                    "metadata": {},
                    "output_type": "display_data"
                }
            ],
            "source": [
                "# Compute the correlation matrix\n",
                "correlation_matrix = X[numerical_features].corr()\n",
                "\n",
                "# Visualize the correlation matrix\n",
                "plt.figure(figsize=(10, 8))\n",
                "sns.heatmap(correlation_matrix, annot=True, fmt=\".2f\", cmap=\"coolwarm\")\n",
                "plt.title(\"Correlation Matrix\")\n",
                "plt.show()"
            ]
        },
        {
            "attachments": {},
            "cell_type": "markdown",
            "metadata": {},
            "source": [
                "*Checking for multicollinearity*"
            ]
        },
        {
            "cell_type": "code",
            "execution_count": 21,
            "metadata": {},
            "outputs": [
                {
                    "name": "stdout",
                    "output_type": "stream",
                    "text": "            Feature        VIF\n0  no_of_dependents   2.984701\n1         loan_term   4.287814\n2       cibil_score   9.704028\n3    debt_to_income  12.218031\n4      total_assets   3.585178\n"
                }
            ],
            "source": [
                "X_vif = X[numerical_features]\n",
                "vif_data = pd.DataFrame()\n",
                "vif_data[\"Feature\"] = X_vif.columns\n",
                "vif_data[\"VIF\"] = [variance_inflation_factor(X_vif.values, i) for i in range(X_vif.shape[1])]\n",
                "\n",
                "print(vif_data)"
            ]
        },
        {
            "cell_type": "code",
            "execution_count": 22,
            "metadata": {},
            "outputs": [
                {
                    "data": {
                        "text/html": "\u003cdiv\u003e\n\u003cstyle scoped\u003e\n    .dataframe tbody tr th:only-of-type {\n        vertical-align: middle;\n    }\n\n    .dataframe tbody tr th {\n        vertical-align: top;\n    }\n\n    .dataframe thead th {\n        text-align: right;\n    }\n\u003c/style\u003e\n\u003ctable border=\"1\" class=\"dataframe\"\u003e\n  \u003cthead\u003e\n    \u003ctr style=\"text-align: right;\"\u003e\n      \u003cth\u003e\u003c/th\u003e\n      \u003cth\u003eno_of_dependents\u003c/th\u003e\n      \u003cth\u003eeducation\u003c/th\u003e\n      \u003cth\u003eself_employed\u003c/th\u003e\n      \u003cth\u003eloan_term\u003c/th\u003e\n      \u003cth\u003ecibil_score\u003c/th\u003e\n      \u003cth\u003edebt_to_income\u003c/th\u003e\n      \u003cth\u003etotal_assets\u003c/th\u003e\n    \u003c/tr\u003e\n  \u003c/thead\u003e\n  \u003ctbody\u003e\n    \u003ctr\u003e\n      \u003cth\u003e0\u003c/th\u003e\n      \u003ctd\u003e2\u003c/td\u003e\n      \u003ctd\u003eGraduate\u003c/td\u003e\n      \u003ctd\u003eNo\u003c/td\u003e\n      \u003ctd\u003e12\u003c/td\u003e\n      \u003ctd\u003e778\u003c/td\u003e\n      \u003ctd\u003e3.114583\u003c/td\u003e\n      \u003ctd\u003e50700000\u003c/td\u003e\n    \u003c/tr\u003e\n    \u003ctr\u003e\n      \u003cth\u003e1\u003c/th\u003e\n      \u003ctd\u003e0\u003c/td\u003e\n      \u003ctd\u003eNot Graduate\u003c/td\u003e\n      \u003ctd\u003eYes\u003c/td\u003e\n      \u003ctd\u003e8\u003c/td\u003e\n      \u003ctd\u003e417\u003c/td\u003e\n      \u003ctd\u003e2.975610\u003c/td\u003e\n      \u003ctd\u003e17000000\u003c/td\u003e\n    \u003c/tr\u003e\n    \u003ctr\u003e\n      \u003cth\u003e2\u003c/th\u003e\n      \u003ctd\u003e3\u003c/td\u003e\n      \u003ctd\u003eGraduate\u003c/td\u003e\n      \u003ctd\u003eNo\u003c/td\u003e\n      \u003ctd\u003e20\u003c/td\u003e\n      \u003ctd\u003e506\u003c/td\u003e\n      \u003ctd\u003e3.263736\u003c/td\u003e\n      \u003ctd\u003e57700000\u003c/td\u003e\n    \u003c/tr\u003e\n    \u003ctr\u003e\n      \u003cth\u003e3\u003c/th\u003e\n      \u003ctd\u003e3\u003c/td\u003e\n      \u003ctd\u003eGraduate\u003c/td\u003e\n      \u003ctd\u003eNo\u003c/td\u003e\n      \u003ctd\u003e8\u003c/td\u003e\n      \u003ctd\u003e467\u003c/td\u003e\n      \u003ctd\u003e3.743902\u003c/td\u003e\n      \u003ctd\u003e52700000\u003c/td\u003e\n    \u003c/tr\u003e\n    \u003ctr\u003e\n      \u003cth\u003e4\u003c/th\u003e\n      \u003ctd\u003e5\u003c/td\u003e\n      \u003ctd\u003eNot Graduate\u003c/td\u003e\n      \u003ctd\u003eYes\u003c/td\u003e\n      \u003ctd\u003e20\u003c/td\u003e\n      \u003ctd\u003e382\u003c/td\u003e\n      \u003ctd\u003e2.469388\u003c/td\u003e\n      \u003ctd\u003e55000000\u003c/td\u003e\n    \u003c/tr\u003e\n  \u003c/tbody\u003e\n\u003c/table\u003e\n\u003c/div\u003e",
                        "text/plain": "   no_of_dependents      education self_employed  loan_term  cibil_score  \\\n0                 2       Graduate            No         12          778   \n1                 0   Not Graduate           Yes          8          417   \n2                 3       Graduate            No         20          506   \n3                 3       Graduate            No          8          467   \n4                 5   Not Graduate           Yes         20          382   \n\n   debt_to_income  total_assets  \n0        3.114583      50700000  \n1        2.975610      17000000  \n2        3.263736      57700000  \n3        3.743902      52700000  \n4        2.469388      55000000  "
                    },
                    "execution_count": 22,
                    "metadata": {},
                    "output_type": "execute_result"
                }
            ],
            "source": [
                "X.head(5)"
            ]
        },
        {
            "attachments": {},
            "cell_type": "markdown",
            "metadata": {},
            "source": [
                "## *Model training and exploration*"
            ]
        },
        {
            "attachments": {},
            "cell_type": "markdown",
            "metadata": {},
            "source": [
                "**Step 1: test all 4 selected models, using their default features:**"
            ]
        },
        {
            "attachments": {},
            "cell_type": "markdown",
            "metadata": {},
            "source": [
                "*The outcome here is the cross-validation mean F1 score of all 4 models, with their default parameters on the training data*"
            ]
        },
        {
            "cell_type": "code",
            "execution_count": 23,
            "metadata": {},
            "outputs": [],
            "source": [
                "models = {\n",
                "    \"KNN\": KNeighborsClassifier(n_neighbors=3),\n",
                "    \"Logistic Regression\": LogisticRegression(),\n",
                "    \"Random Forest\": RandomForestClassifier(n_estimators=100, random_state=42),\n",
                "    \"Neural Network\": MLPClassifier(hidden_layer_sizes=(100,), max_iter=1000, random_state=42)\n",
                "}\n",
                "\n",
                ""
            ]
        },
        {
            "cell_type": "code",
            "execution_count": 24,
            "metadata": {},
            "outputs": [
                {
                    "name": "stdout",
                    "output_type": "stream",
                    "text": "KNN Mean F1 score (5-fold CV): 0.92\nLogistic Regression Mean F1 score (5-fold CV): 0.91\nRandom Forest Mean F1 score (5-fold CV): 1.00\nNeural Network Mean F1 score (5-fold CV): 0.98\n"
                }
            ],
            "source": [
                "f1_scorer = make_scorer(f1_score, average='macro')\n",
                "\n",
                "\n",
                "for name, model in models.items():\n",
                "    scores = cross_val_score(model, X_train_preprocessed, y_train, cv=5, scoring=f1_scorer)\n",
                "    print(f\"{name} Mean F1 score (5-fold CV): {np.mean(scores):.2f}\")"
            ]
        },
        {
            "attachments": {},
            "cell_type": "markdown",
            "metadata": {},
            "source": [
                "**Exploring NN and RF**\n",
                "\n",
                ""
            ]
        },
        {
            "cell_type": "code",
            "execution_count": 25,
            "metadata": {},
            "outputs": [
                {
                    "name": "stdout",
                    "output_type": "stream",
                    "text": "Best Parameters for Random Forest: {'n_estimators': 125, 'min_samples_split': 5, 'min_samples_leaf': 1, 'max_depth': 30}\n"
                }
            ],
            "source": [
                "# Random Forest parameters and search:\n",
                "\n",
                "param_distributions_rf = {\n",
                "    'n_estimators': [50, 75, 100, 125, 150, 175, 200],  # Number of trees\n",
                "    'max_depth': [None, 10, 20, 30], \n",
                "    'min_samples_split': [2, 5, 10],\n",
                "    'min_samples_leaf': [1, 2, 4]\n",
                "}\n",
                "\n",
                "random_search_rf = RandomizedSearchCV(\n",
                "    RandomForestClassifier(random_state=42),\n",
                "    param_distributions=param_distributions_rf,\n",
                "    n_iter=20,  # Number of random combinations to test\n",
                "    cv=5,\n",
                "    scoring='f1_macro',\n",
                "    random_state=42,\n",
                "    n_jobs=-1\n",
                ")\n",
                "\n",
                "# Fit Random Forest model\n",
                "random_search_rf.fit(X_train_preprocessed, y_train)\n",
                "best_rf = random_search_rf.best_estimator_\n",
                "print(f\"Best Parameters for Random Forest: {random_search_rf.best_params_}\")\n",
                "\n",
                "\n",
                "\n",
                ""
            ]
        },
        {
            "cell_type": "code",
            "execution_count": 26,
            "metadata": {},
            "outputs": [
                {
                    "name": "stdout",
                    "output_type": "stream",
                    "text": "Best Parameters for Neural Network: {'learning_rate_init': 0.01, 'learning_rate': 'constant', 'hidden_layer_sizes': (100, 50), 'alpha': 0.0001, 'activation': 'tanh'}\n"
                }
            ],
            "source": [
                "param_distributions_nn = {\n",
                "    'hidden_layer_sizes': [(50,), (100,), (50, 50), (100, 50), (50, 100)],\n",
                "    'activation': ['tanh', 'relu'],  # Activation functions\n",
                "    'alpha': [0.0001, 0.001, 0.01, 0.1], # Regularization term\n",
                "    'learning_rate': ['constant', 'adaptive'],\n",
                "    'learning_rate_init': [0.001, 0.01, 0.1, 0.0001],\n",
                "\n",
                "}\n",
                "\n",
                "random_search_nn = RandomizedSearchCV(\n",
                "    MLPClassifier(max_iter=1000, random_state=42),\n",
                "    param_distributions=param_distributions_nn,\n",
                "    n_iter=20,  # Number of random combinations to test\n",
                "    cv=5,\n",
                "    scoring='f1_macro',\n",
                "    random_state=42,\n",
                "    n_jobs=-1\n",
                ")\n",
                "\n",
                "# Fit Neural Network model\n",
                "random_search_nn.fit(X_train_preprocessed, y_train)\n",
                "best_nn = random_search_nn.best_estimator_\n",
                "print(f\"Best Parameters for Neural Network: {random_search_nn.best_params_}\")"
            ]
        },
        {
            "cell_type": "code",
            "execution_count": 27,
            "metadata": {},
            "outputs": [
                {
                    "name": "stdout",
                    "output_type": "stream",
                    "text": "\nClassification Report for Random Forest (Cross-Validation):\n              precision    recall  f1-score   support\n\n           0       0.99      1.00      1.00      2120\n           1       1.00      0.99      0.99      1295\n\n    accuracy                           1.00      3415\n   macro avg       1.00      0.99      1.00      3415\nweighted avg       1.00      1.00      1.00      3415\n\nAccuracy for Random Forest (Cross-Validation): 0.9956\n\nConfusion Matrix for Random Forest (Cross-Validation):\n[[2120    0]\n [  15 1280]]\n"
                }
            ],
            "source": [
                "# Evaluate Random Forest\n",
                "# ---------------------------\n",
                "# Cross-validation predictions\n",
                "y_pred_rf = cross_val_predict(best_rf, X_train_preprocessed, y_train, cv=5)\n",
                "\n",
                "# Classification report and accuracy\n",
                "print(\"\\nClassification Report for Random Forest (Cross-Validation):\")\n",
                "print(classification_report(y_train, y_pred_rf))\n",
                "accuracy_rf = accuracy_score(y_train, y_pred_rf)\n",
                "print(f\"Accuracy for Random Forest (Cross-Validation): {accuracy_rf:.4f}\")\n",
                "\n",
                "# Confusion Matrix\n",
                "print(\"\\nConfusion Matrix for Random Forest (Cross-Validation):\")\n",
                "print(confusion_matrix(y_train, y_pred_rf))\n",
                ""
            ]
        },
        {
            "cell_type": "code",
            "execution_count": 28,
            "metadata": {},
            "outputs": [
                {
                    "name": "stdout",
                    "output_type": "stream",
                    "text": "\nClassification Report for Neural Network (Cross-Validation):\n              precision    recall  f1-score   support\n\n           0       0.98      0.99      0.99      2120\n           1       0.99      0.98      0.98      1295\n\n    accuracy                           0.99      3415\n   macro avg       0.99      0.98      0.98      3415\nweighted avg       0.99      0.99      0.99      3415\n\nAccuracy for Neural Network (Cross-Validation): 0.9851\n\nConfusion Matrix for Neural Network (Cross-Validation):\n[[2101   19]\n [  32 1263]]\n"
                }
            ],
            "source": [
                "# Evaluate Neural Network\n",
                "\n",
                "# Cross-validation predictions\n",
                "y_pred_nn = cross_val_predict(best_nn, X_train_preprocessed, y_train, cv=5)\n",
                "\n",
                "# Classification report and accuracy\n",
                "print(\"\\nClassification Report for Neural Network (Cross-Validation):\")\n",
                "print(classification_report(y_train, y_pred_nn))\n",
                "accuracy_nn = accuracy_score(y_train, y_pred_nn)\n",
                "print(f\"Accuracy for Neural Network (Cross-Validation): {accuracy_nn:.4f}\")\n",
                "\n",
                "# Confusion Matrix\n",
                "print(\"\\nConfusion Matrix for Neural Network (Cross-Validation):\")\n",
                "print(confusion_matrix(y_train, y_pred_nn))"
            ]
        },
        {
            "attachments": {},
            "cell_type": "markdown",
            "metadata": {},
            "source": [
                "**Optimized random forest on test data:**"
            ]
        },
        {
            "cell_type": "code",
            "execution_count": 29,
            "metadata": {},
            "outputs": [],
            "source": [
                "best_rf = random_search_rf.best_estimator_"
            ]
        },
        {
            "cell_type": "code",
            "execution_count": 30,
            "metadata": {},
            "outputs": [
                {
                    "name": "stdout",
                    "output_type": "stream",
                    "text": "Classification Report for Random Forest on Test Data:\n              precision    recall  f1-score   support\n\n           0       1.00      1.00      1.00       536\n           1       1.00      1.00      1.00       318\n\n    accuracy                           1.00       854\n   macro avg       1.00      1.00      1.00       854\nweighted avg       1.00      1.00      1.00       854\n\nAccuracy on Test Data:\n0.9988\nConfusion Matrix for Random Forest on Test Data:\n[[536   0]\n [  1 317]]\n"
                }
            ],
            "source": [
                "y_test_pred = best_rf.predict(X_test_preprocessed)\n",
                "\n",
                "# Evaluate the model\n",
                "print(\"Classification Report for Random Forest on Test Data:\")\n",
                "print(classification_report(y_test, y_test_pred))\n",
                "\n",
                "print(\"Accuracy on Test Data:\")\n",
                "print(f\"{accuracy_score(y_test, y_test_pred):.4f}\")\n",
                "\n",
                "print(\"Confusion Matrix for Random Forest on Test Data:\")\n",
                "print(confusion_matrix(y_test, y_test_pred))\n",
                ""
            ]
        },
        {
            "attachments": {},
            "cell_type": "markdown",
            "metadata": {},
            "source": [
                "**Feature importance**"
            ]
        },
        {
            "cell_type": "code",
            "execution_count": 31,
            "metadata": {},
            "outputs": [
                {
                    "name": "stdout",
                    "output_type": "stream",
                    "text": "Feature Importances:\nnum__cibil_score: 0.8387\nnum__loan_term: 0.0793\nnum__debt_to_income: 0.0552\nnum__total_assets: 0.0185\nnum__no_of_dependents: 0.0049\ncat__self_employed_ No: 0.0010\ncat__education_ Not Graduate: 0.0009\ncat__self_employed_ Yes: 0.0008\ncat__education_ Graduate: 0.0007\n"
                }
            ],
            "source": [
                "\n",
                "# Get feature names from the preprocessor\n",
                "feature_names = preprocessor.get_feature_names_out()\n",
                "\n",
                "# Get the important features and their importance scores\n",
                "important_features = [\n",
                "    (feature_names[i], importance)\n",
                "    for i, importance in enumerate(best_rf.feature_importances_)\n",
                "    if importance \u003e 0\n",
                "]\n",
                "\n",
                "# Sort by importance\n",
                "important_features_sorted = sorted(important_features, key=lambda x: x[1], reverse=True)\n",
                "\n",
                "# Display important features with their importance scores\n",
                "print(\"Feature Importances:\")\n",
                "for feature, importance in important_features_sorted:\n",
                "    print(f\"{feature}: {importance:.4f}\")\n",
                "\n",
                ""
            ]
        },
        {
            "attachments": {},
            "cell_type": "markdown",
            "metadata": {},
            "source": [
                "**Ignore below, we was looking at if there was a way we could do some like risk analysis and see if there are things we could look at later for how close the loan is to be rejected and if we should charge a higher interest rate for that**\n",
                ""
            ]
        },
        {
            "cell_type": "code",
            "execution_count": 40,
            "metadata": {},
            "outputs": [
                {
                    "name": "stdout",
                    "output_type": "stream",
                    "text": "     Risk_Score  Not_Approved_Probability\n842           0                  0.000000\n20            0                  0.000000\n574           0                  0.000000\n16            0                  0.000000\n685           0                  0.000000\n..          ...                       ...\n29          100                  0.993200\n19          100                  0.992000\n852         100                  0.992000\n2           100                  0.992000\n0           100                  0.999111\n\n[854 rows x 2 columns]\n"
                }
            ],
            "source": [
                "# Map probabilities to a 1–100 scale\n",
                "risk_scores = np.ceil(not_approved_prob * 100).astype(int)\n",
                "\n",
                "# Combine into a DataFrame\n",
                "risk_scores_df = pd.DataFrame({\n",
                "    'Risk_Score': risk_scores,\n",
                "    'Not_Approved_Probability': not_approved_prob\n",
                "})\n",
                "\n",
                "# Sort by Risk Score (ascending)\n",
                "sorted_risk_scores = risk_scores_df.sort_values(by='Risk_Score', ascending=True)\n",
                "\n",
                "# Print sorted risk scores\n",
                "print(sorted_risk_scores)\n",
                "\n",
                "\n",
                ""
            ]
        },
        {
            "attachments": {},
            "cell_type": "markdown",
            "metadata": {},
            "source": [
                "## **THANK YOU AND HAPPY HOLIDAYS!!!!**"
            ]
        }
    ]
}
